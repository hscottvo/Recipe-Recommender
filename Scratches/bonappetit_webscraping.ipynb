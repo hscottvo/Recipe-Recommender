{
 "cells": [
  {
   "cell_type": "code",
   "execution_count": 23,
   "metadata": {},
   "outputs": [],
   "source": [
    "import requests\n",
    "import unicodedata\n",
    "import pandas as pd\n",
    "from bs4 import BeautifulSoup"
   ]
  },
  {
   "cell_type": "code",
   "execution_count": 24,
   "metadata": {},
   "outputs": [
    {
     "name": "stdout",
     "output_type": "stream",
     "text": [
      "Wall time: 859 ms\n"
     ]
    }
   ],
   "source": [
    "%%time\n",
    "url = \"https://www.bonappetit.com/recipe/vegetarian-carbonara\"\n",
    "r = requests.get(url)\n",
    " \n",
    "soup = BeautifulSoup(r.content)"
   ]
  },
  {
   "cell_type": "code",
   "execution_count": 25,
   "metadata": {},
   "outputs": [],
   "source": [
    "recipe_div_classname = \"recipe__main-content\"\n",
    "recipe_div = soup.find_all(\"div\", {\"class\": recipe_div_classname})"
   ]
  },
  {
   "cell_type": "code",
   "execution_count": 26,
   "metadata": {},
   "outputs": [],
   "source": [
    "ing_div_classname = \"List-XYTyX fwZEkN\"\n",
    "ing_div_list = soup.find_all(\"div\", {\"class\": ing_div_classname})"
   ]
  },
  {
   "cell_type": "code",
   "execution_count": 27,
   "metadata": {},
   "outputs": [
    {
     "name": "stdout",
     "output_type": "stream",
     "text": [
      "<div class=\"List-XYTyX fwZEkN\">\n",
      " <p class=\"BaseWrap-sc-TURhJ BaseText-fFzBQt Amount-VUCfl eTiIvU gBuuRN kvihqj\">\n",
      "  12\n",
      " </p>\n",
      " <div class=\"BaseWrap-sc-TURhJ BaseText-fFzBQt Description-dSNklj eTiIvU gBuuRN cZDSEe\">\n",
      "  oz. fettuccine or other long pasta\n",
      " </div>\n",
      " <p class=\"BaseWrap-sc-TURhJ BaseText-fFzBQt Amount-VUCfl eTiIvU gBuuRN kvihqj\">\n",
      " </p>\n",
      " <div class=\"BaseWrap-sc-TURhJ BaseText-fFzBQt Description-dSNklj eTiIvU gBuuRN cZDSEe\">\n",
      "  Kosher salt\n",
      " </div>\n",
      " <p class=\"BaseWrap-sc-TURhJ BaseText-fFzBQt Amount-VUCfl eTiIvU gBuuRN kvihqj\">\n",
      "  1\n",
      " </p>\n",
      " <div class=\"BaseWrap-sc-TURhJ BaseText-fFzBQt Description-dSNklj eTiIvU gBuuRN cZDSEe\">\n",
      "  lb. asparagus, trimmed, cut into 2\" –3\" pieces\n",
      " </div>\n",
      " <p class=\"BaseWrap-sc-TURhJ BaseText-fFzBQt Amount-VUCfl eTiIvU gBuuRN kvihqj\">\n",
      "  4\n",
      " </p>\n",
      " <div class=\"BaseWrap-sc-TURhJ BaseText-fFzBQt Description-dSNklj eTiIvU gBuuRN cZDSEe\">\n",
      "  garlic cloves, thinly sliced\n",
      " </div>\n",
      " <p class=\"BaseWrap-sc-TURhJ BaseText-fFzBQt Amount-VUCfl eTiIvU gBuuRN kvihqj\">\n",
      "  ¼\n",
      " </p>\n",
      " <div class=\"BaseWrap-sc-TURhJ BaseText-fFzBQt Description-dSNklj eTiIvU gBuuRN cZDSEe\">\n",
      "  cup extra-virgin olive oil\n",
      " </div>\n",
      " <p class=\"BaseWrap-sc-TURhJ BaseText-fFzBQt Amount-VUCfl eTiIvU gBuuRN kvihqj\">\n",
      " </p>\n",
      " <div class=\"BaseWrap-sc-TURhJ BaseText-fFzBQt Description-dSNklj eTiIvU gBuuRN cZDSEe\">\n",
      "  Freshly ground black pepper\n",
      " </div>\n",
      " <p class=\"BaseWrap-sc-TURhJ BaseText-fFzBQt Amount-VUCfl eTiIvU gBuuRN kvihqj\">\n",
      "  ¾\n",
      " </p>\n",
      " <div class=\"BaseWrap-sc-TURhJ BaseText-fFzBQt Description-dSNklj eTiIvU gBuuRN cZDSEe\">\n",
      "  tsp. smoked paprika\n",
      " </div>\n",
      " <p class=\"BaseWrap-sc-TURhJ BaseText-fFzBQt Amount-VUCfl eTiIvU gBuuRN kvihqj\">\n",
      "  3\n",
      " </p>\n",
      " <div class=\"BaseWrap-sc-TURhJ BaseText-fFzBQt Description-dSNklj eTiIvU gBuuRN cZDSEe\">\n",
      "  large egg yolks\n",
      " </div>\n",
      " <p class=\"BaseWrap-sc-TURhJ BaseText-fFzBQt Amount-VUCfl eTiIvU gBuuRN kvihqj\">\n",
      "  ¾\n",
      " </p>\n",
      " <div class=\"BaseWrap-sc-TURhJ BaseText-fFzBQt Description-dSNklj eTiIvU gBuuRN cZDSEe\">\n",
      "  cup pre-grated vegetarian Parmesan, plus more for serving\n",
      " </div>\n",
      "</div>\n"
     ]
    }
   ],
   "source": [
    "print(ing_div_list[0].prettify())"
   ]
  },
  {
   "cell_type": "code",
   "execution_count": 28,
   "metadata": {},
   "outputs": [],
   "source": [
    "ingamt_p_classname = \"BaseWrap-sc-TURhJ BaseText-fFzBQt Amount-VUCfl eTiIvU gBuuRN kvihqj\"\n",
    "ingamt_p_list = soup.find_all(\"p\", {\"class\": ingamt_p_classname})"
   ]
  },
  {
   "cell_type": "code",
   "execution_count": 31,
   "metadata": {},
   "outputs": [
    {
     "name": "stdout",
     "output_type": "stream",
     "text": [
      "<p class=\"BaseWrap-sc-TURhJ BaseText-fFzBQt Amount-VUCfl eTiIvU gBuuRN kvihqj\">\n",
      " 12\n",
      "</p>\n",
      " \n",
      "\n",
      "\n",
      "<p class=\"BaseWrap-sc-TURhJ BaseText-fFzBQt Amount-VUCfl eTiIvU gBuuRN kvihqj\">\n",
      "</p>\n",
      " \n",
      "\n",
      "\n",
      "<p class=\"BaseWrap-sc-TURhJ BaseText-fFzBQt Amount-VUCfl eTiIvU gBuuRN kvihqj\">\n",
      " 1\n",
      "</p>\n",
      " \n",
      "\n",
      "\n",
      "<p class=\"BaseWrap-sc-TURhJ BaseText-fFzBQt Amount-VUCfl eTiIvU gBuuRN kvihqj\">\n",
      " 4\n",
      "</p>\n",
      " \n",
      "\n",
      "\n",
      "<p class=\"BaseWrap-sc-TURhJ BaseText-fFzBQt Amount-VUCfl eTiIvU gBuuRN kvihqj\">\n",
      " ¼\n",
      "</p>\n",
      " \n",
      "\n",
      "\n",
      "<p class=\"BaseWrap-sc-TURhJ BaseText-fFzBQt Amount-VUCfl eTiIvU gBuuRN kvihqj\">\n",
      "</p>\n",
      " \n",
      "\n",
      "\n",
      "<p class=\"BaseWrap-sc-TURhJ BaseText-fFzBQt Amount-VUCfl eTiIvU gBuuRN kvihqj\">\n",
      " ¾\n",
      "</p>\n",
      " \n",
      "\n",
      "\n",
      "<p class=\"BaseWrap-sc-TURhJ BaseText-fFzBQt Amount-VUCfl eTiIvU gBuuRN kvihqj\">\n",
      " 3\n",
      "</p>\n",
      " \n",
      "\n",
      "\n",
      "<p class=\"BaseWrap-sc-TURhJ BaseText-fFzBQt Amount-VUCfl eTiIvU gBuuRN kvihqj\">\n",
      " ¾\n",
      "</p>\n",
      " \n",
      "\n",
      "\n"
     ]
    }
   ],
   "source": [
    "for i in ingamt_p_list:\n",
    "    print(i.prettify(), '\\n\\n')"
   ]
  },
  {
   "cell_type": "code",
   "execution_count": 29,
   "metadata": {},
   "outputs": [],
   "source": [
    "ingname_div_classname = \"BaseWrap-sc-TURhJ BaseText-fFzBQt Description-dSNklj eTiIvU gBuuRN cZDSEe\"\n",
    "ingname_div_list = soup.find_all(\"div\", {\"class\": ingname_div_classname})"
   ]
  },
  {
   "cell_type": "code",
   "execution_count": 30,
   "metadata": {},
   "outputs": [
    {
     "name": "stdout",
     "output_type": "stream",
     "text": [
      "<div class=\"BaseWrap-sc-TURhJ BaseText-fFzBQt Description-dSNklj eTiIvU gBuuRN cZDSEe\">\n",
      " oz. fettuccine or other long pasta\n",
      "</div>\n",
      " \n",
      "\n",
      "\n",
      "<div class=\"BaseWrap-sc-TURhJ BaseText-fFzBQt Description-dSNklj eTiIvU gBuuRN cZDSEe\">\n",
      " Kosher salt\n",
      "</div>\n",
      " \n",
      "\n",
      "\n",
      "<div class=\"BaseWrap-sc-TURhJ BaseText-fFzBQt Description-dSNklj eTiIvU gBuuRN cZDSEe\">\n",
      " lb. asparagus, trimmed, cut into 2\" –3\" pieces\n",
      "</div>\n",
      " \n",
      "\n",
      "\n",
      "<div class=\"BaseWrap-sc-TURhJ BaseText-fFzBQt Description-dSNklj eTiIvU gBuuRN cZDSEe\">\n",
      " garlic cloves, thinly sliced\n",
      "</div>\n",
      " \n",
      "\n",
      "\n",
      "<div class=\"BaseWrap-sc-TURhJ BaseText-fFzBQt Description-dSNklj eTiIvU gBuuRN cZDSEe\">\n",
      " cup extra-virgin olive oil\n",
      "</div>\n",
      " \n",
      "\n",
      "\n",
      "<div class=\"BaseWrap-sc-TURhJ BaseText-fFzBQt Description-dSNklj eTiIvU gBuuRN cZDSEe\">\n",
      " Freshly ground black pepper\n",
      "</div>\n",
      " \n",
      "\n",
      "\n",
      "<div class=\"BaseWrap-sc-TURhJ BaseText-fFzBQt Description-dSNklj eTiIvU gBuuRN cZDSEe\">\n",
      " tsp. smoked paprika\n",
      "</div>\n",
      " \n",
      "\n",
      "\n",
      "<div class=\"BaseWrap-sc-TURhJ BaseText-fFzBQt Description-dSNklj eTiIvU gBuuRN cZDSEe\">\n",
      " large egg yolks\n",
      "</div>\n",
      " \n",
      "\n",
      "\n",
      "<div class=\"BaseWrap-sc-TURhJ BaseText-fFzBQt Description-dSNklj eTiIvU gBuuRN cZDSEe\">\n",
      " cup pre-grated vegetarian Parmesan, plus more for serving\n",
      "</div> \n",
      "\n",
      "\n"
     ]
    }
   ],
   "source": [
    "for i in ingname_div_list:\n",
    "    print(i.prettify(), '\\n\\n')"
   ]
  },
  {
   "cell_type": "code",
   "execution_count": 46,
   "metadata": {},
   "outputs": [
    {
     "name": "stdout",
     "output_type": "stream",
     "text": [
      "['oz.', 'fettuccine', 'or', 'other', 'long', 'pasta']\n",
      "oz. fettuccine or other long pasta\n",
      "['Kosher', 'salt']\n",
      "Kosher salt\n",
      "['lb.', 'asparagus,', 'trimmed,', 'cut', 'into', '2\"', '–3\"', 'pieces']\n",
      "lb. asparagus\n",
      "['garlic', 'cloves,', 'thinly', 'sliced']\n",
      "garlic cloves\n",
      "['cup', 'extra-virgin', 'olive', 'oil']\n",
      "cup extra-virgin olive oil\n",
      "['Freshly', 'ground', 'black', 'pepper']\n",
      "Freshly ground black pepper\n",
      "['tsp.', 'smoked', 'paprika']\n",
      "tsp. smoked paprika\n",
      "['large', 'egg', 'yolks']\n",
      "large egg yolks\n",
      "['cup', 'pre-grated', 'vegetarian', 'Parmesan,', 'plus', 'more', 'for', 'serving']\n",
      "cup pre-grated vegetarian Parmesan\n"
     ]
    }
   ],
   "source": [
    "# parsing\n",
    "ing_list = []\n",
    "\n",
    "for amt, ing_desc in zip(ingamt_p_list, ingname_div_list):\n",
    "    ingbreakdown = {}\n",
    "    \n",
    "    print(ing_desc.contents[0].split())\n",
    "    print(ing_desc.contents[0].split(',')[0])\n",
    "    if len(amt.contents) != 0: # need amt/units\n",
    "        ingbreakdown['amount'] = amt.contents[0]\n",
    "        ingbreakdown['unit'] = ing_desc.contents[0].split()[0]\n",
    "        \n",
    "    ingbreakdown['ingredient'] = ing_desc.contents[0].split(',')[0]\n",
    "    \n",
    "#     print(ingbreakdown)\n",
    "    \n",
    "# print(ing_list)"
   ]
  },
  {
   "cell_type": "code",
   "execution_count": null,
   "metadata": {},
   "outputs": [],
   "source": [
    "\"broccoli\" == \"broccoli\"\n",
    "\"head of broccoli\".find(\"broccoli\")"
   ]
  },
  {
   "cell_type": "code",
   "execution_count": null,
   "metadata": {},
   "outputs": [],
   "source": []
  },
  {
   "cell_type": "code",
   "execution_count": null,
   "metadata": {},
   "outputs": [],
   "source": []
  }
 ],
 "metadata": {
  "interpreter": {
   "hash": "19e79de40865a86114bc449e22537f96a3defbe7767c59c8c18c82c215a6c44e"
  },
  "kernelspec": {
   "display_name": "Python 3",
   "language": "python",
   "name": "python3"
  },
  "language_info": {
   "codemirror_mode": {
    "name": "ipython",
    "version": 3
   },
   "file_extension": ".py",
   "mimetype": "text/x-python",
   "name": "python",
   "nbconvert_exporter": "python",
   "pygments_lexer": "ipython3",
   "version": "3.8.5"
  }
 },
 "nbformat": 4,
 "nbformat_minor": 2
}
